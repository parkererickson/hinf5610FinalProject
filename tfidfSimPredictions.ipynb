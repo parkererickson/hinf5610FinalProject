{
 "metadata": {
  "language_info": {
   "codemirror_mode": {
    "name": "ipython",
    "version": 3
   },
   "file_extension": ".py",
   "mimetype": "text/x-python",
   "name": "python",
   "nbconvert_exporter": "python",
   "pygments_lexer": "ipython3",
   "version": "3.6.9-final"
  },
  "orig_nbformat": 2,
  "kernelspec": {
   "name": "python36964bit737e1f7203fe454596dbc919479bfb9c",
   "display_name": "Python 3.6.9 64-bit"
  },
  "metadata": {
   "interpreter": {
    "hash": "31f2aee4e71d21fbe5cf8b01ff0e069b9275f58929596ceb00d14d90e3e16cd6"
   }
  }
 },
 "nbformat": 4,
 "nbformat_minor": 2,
 "cells": [
  {
   "cell_type": "code",
   "execution_count": 1,
   "metadata": {},
   "outputs": [
    {
     "output_type": "stream",
     "name": "stderr",
     "text": [
      "Using custom data configuration default\n",
      "Reusing dataset medical_questions_pairs (/home/parker/.cache/huggingface/datasets/medical_questions_pairs/default/0.0.0/e42e9b3ce408e34f6180deae0406010a229bbbf355cb39e52b4a1bfc4a611aae)\n"
     ]
    }
   ],
   "source": [
    "from datasets import load_dataset\n",
    "\n",
    "dataset = load_dataset(\"medical_questions_pairs\")"
   ]
  },
  {
   "cell_type": "code",
   "execution_count": 2,
   "metadata": {},
   "outputs": [
    {
     "output_type": "stream",
     "name": "stderr",
     "text": [
      "Loading cached split indices for dataset at /home/parker/.cache/huggingface/datasets/medical_questions_pairs/default/0.0.0/e42e9b3ce408e34f6180deae0406010a229bbbf355cb39e52b4a1bfc4a611aae/cache-ddbba2ce54e35142.arrow and /home/parker/.cache/huggingface/datasets/medical_questions_pairs/default/0.0.0/e42e9b3ce408e34f6180deae0406010a229bbbf355cb39e52b4a1bfc4a611aae/cache-4f60af92002c21dd.arrow\n"
     ]
    }
   ],
   "source": [
    "dataset = dataset[\"train\"].train_test_split(test_size=0.2)\n",
    "train = dataset[\"train\"]\n",
    "test = dataset[\"test\"]"
   ]
  },
  {
   "cell_type": "code",
   "execution_count": 3,
   "metadata": {},
   "outputs": [],
   "source": [
    "import pandas as pd\n",
    "\n",
    "train = train.to_pandas()\n",
    "test = test.to_pandas()"
   ]
  },
  {
   "cell_type": "code",
   "execution_count": 4,
   "metadata": {},
   "outputs": [
    {
     "output_type": "execute_result",
     "data": {
      "text/plain": [
       "   dr_id  label                                         question_1  \\\n",
       "0      3      1  Is it contraindicated to insert a urinary cath...   \n",
       "1      8      1  How do I tell the difference between an allerg...   \n",
       "2      1      1  Can coarctation of the aorta cause poor growth...   \n",
       "3      9      0  I had a sinus infection 3 weeks ago and i was ...   \n",
       "4      9      0  Clicking sound comes and goes when heart beats...   \n",
       "\n",
       "                                          question_2  \n",
       "0  I am looking for some information- Is it safe ...  \n",
       "1  What are the symptoms that differentiate betwe...  \n",
       "2  I am 4' 8\". My mom said that I have a birth de...  \n",
       "3  My sinuses have been blocked due to allergies ...  \n",
       "4  I have been having panic attacks for a few mon...  "
      ],
      "text/html": "<div>\n<style scoped>\n    .dataframe tbody tr th:only-of-type {\n        vertical-align: middle;\n    }\n\n    .dataframe tbody tr th {\n        vertical-align: top;\n    }\n\n    .dataframe thead th {\n        text-align: right;\n    }\n</style>\n<table border=\"1\" class=\"dataframe\">\n  <thead>\n    <tr style=\"text-align: right;\">\n      <th></th>\n      <th>dr_id</th>\n      <th>label</th>\n      <th>question_1</th>\n      <th>question_2</th>\n    </tr>\n  </thead>\n  <tbody>\n    <tr>\n      <th>0</th>\n      <td>3</td>\n      <td>1</td>\n      <td>Is it contraindicated to insert a urinary cath...</td>\n      <td>I am looking for some information- Is it safe ...</td>\n    </tr>\n    <tr>\n      <th>1</th>\n      <td>8</td>\n      <td>1</td>\n      <td>How do I tell the difference between an allerg...</td>\n      <td>What are the symptoms that differentiate betwe...</td>\n    </tr>\n    <tr>\n      <th>2</th>\n      <td>1</td>\n      <td>1</td>\n      <td>Can coarctation of the aorta cause poor growth...</td>\n      <td>I am 4' 8\". My mom said that I have a birth de...</td>\n    </tr>\n    <tr>\n      <th>3</th>\n      <td>9</td>\n      <td>0</td>\n      <td>I had a sinus infection 3 weeks ago and i was ...</td>\n      <td>My sinuses have been blocked due to allergies ...</td>\n    </tr>\n    <tr>\n      <th>4</th>\n      <td>9</td>\n      <td>0</td>\n      <td>Clicking sound comes and goes when heart beats...</td>\n      <td>I have been having panic attacks for a few mon...</td>\n    </tr>\n  </tbody>\n</table>\n</div>"
     },
     "metadata": {},
     "execution_count": 4
    }
   ],
   "source": [
    "train.head()"
   ]
  },
  {
   "cell_type": "code",
   "execution_count": 5,
   "metadata": {},
   "outputs": [
    {
     "output_type": "execute_result",
     "data": {
      "text/plain": [
       "   dr_id  label                                         question_1  \\\n",
       "0      5      0  Had a cyst on my bottom. MRSA. Doc gave me dox...   \n",
       "1      2      0  Hello I have back spasms that flare up every n...   \n",
       "2      7      0  I having a flexible sigmoidoscopy and I have f...   \n",
       "3      8      1  Is it ok to induce your period while on the su...   \n",
       "4      3      0  Please recommend the best beer to prevent hang...   \n",
       "\n",
       "                                          question_2  \n",
       "0  Does being on Doxycycline for 10 days help cle...  \n",
       "1  I have been having intense back spasms. Could ...  \n",
       "2  I have a flexible sigmoidoscopy scheduled this...  \n",
       "3  Is it normal to get withdrawal bleeding while ...  \n",
       "4             How to deal with hangover due to beer?  "
      ],
      "text/html": "<div>\n<style scoped>\n    .dataframe tbody tr th:only-of-type {\n        vertical-align: middle;\n    }\n\n    .dataframe tbody tr th {\n        vertical-align: top;\n    }\n\n    .dataframe thead th {\n        text-align: right;\n    }\n</style>\n<table border=\"1\" class=\"dataframe\">\n  <thead>\n    <tr style=\"text-align: right;\">\n      <th></th>\n      <th>dr_id</th>\n      <th>label</th>\n      <th>question_1</th>\n      <th>question_2</th>\n    </tr>\n  </thead>\n  <tbody>\n    <tr>\n      <th>0</th>\n      <td>5</td>\n      <td>0</td>\n      <td>Had a cyst on my bottom. MRSA. Doc gave me dox...</td>\n      <td>Does being on Doxycycline for 10 days help cle...</td>\n    </tr>\n    <tr>\n      <th>1</th>\n      <td>2</td>\n      <td>0</td>\n      <td>Hello I have back spasms that flare up every n...</td>\n      <td>I have been having intense back spasms. Could ...</td>\n    </tr>\n    <tr>\n      <th>2</th>\n      <td>7</td>\n      <td>0</td>\n      <td>I having a flexible sigmoidoscopy and I have f...</td>\n      <td>I have a flexible sigmoidoscopy scheduled this...</td>\n    </tr>\n    <tr>\n      <th>3</th>\n      <td>8</td>\n      <td>1</td>\n      <td>Is it ok to induce your period while on the su...</td>\n      <td>Is it normal to get withdrawal bleeding while ...</td>\n    </tr>\n    <tr>\n      <th>4</th>\n      <td>3</td>\n      <td>0</td>\n      <td>Please recommend the best beer to prevent hang...</td>\n      <td>How to deal with hangover due to beer?</td>\n    </tr>\n  </tbody>\n</table>\n</div>"
     },
     "metadata": {},
     "execution_count": 5
    }
   ],
   "source": [
    "test.head()"
   ]
  },
  {
   "cell_type": "code",
   "execution_count": 6,
   "metadata": {},
   "outputs": [
    {
     "output_type": "execute_result",
     "data": {
      "text/plain": [
       "(2438, 4)"
      ]
     },
     "metadata": {},
     "execution_count": 6
    }
   ],
   "source": [
    "train.shape"
   ]
  },
  {
   "cell_type": "code",
   "execution_count": 7,
   "metadata": {},
   "outputs": [
    {
     "output_type": "execute_result",
     "data": {
      "text/plain": [
       "(610, 4)"
      ]
     },
     "metadata": {},
     "execution_count": 7
    }
   ],
   "source": [
    "test.shape"
   ]
  },
  {
   "cell_type": "code",
   "execution_count": 8,
   "metadata": {},
   "outputs": [],
   "source": [
    "from sklearn.feature_extraction.text import TfidfVectorizer\n",
    "from sklearn.metrics.pairwise import cosine_similarity\n",
    "import numpy as np"
   ]
  },
  {
   "cell_type": "code",
   "execution_count": 9,
   "metadata": {},
   "outputs": [],
   "source": [
    "train[\"both_q\"] = train[\"question_1\"] +\" \"+ train[\"question_2\"]"
   ]
  },
  {
   "cell_type": "code",
   "execution_count": 10,
   "metadata": {},
   "outputs": [
    {
     "output_type": "execute_result",
     "data": {
      "text/plain": [
       "   dr_id  label                                         question_1  \\\n",
       "0      3      1  Is it contraindicated to insert a urinary cath...   \n",
       "1      8      1  How do I tell the difference between an allerg...   \n",
       "2      1      1  Can coarctation of the aorta cause poor growth...   \n",
       "3      9      0  I had a sinus infection 3 weeks ago and i was ...   \n",
       "4      9      0  Clicking sound comes and goes when heart beats...   \n",
       "\n",
       "                                          question_2  \\\n",
       "0  I am looking for some information- Is it safe ...   \n",
       "1  What are the symptoms that differentiate betwe...   \n",
       "2  I am 4' 8\". My mom said that I have a birth de...   \n",
       "3  My sinuses have been blocked due to allergies ...   \n",
       "4  I have been having panic attacks for a few mon...   \n",
       "\n",
       "                                              both_q  \n",
       "0  Is it contraindicated to insert a urinary cath...  \n",
       "1  How do I tell the difference between an allerg...  \n",
       "2  Can coarctation of the aorta cause poor growth...  \n",
       "3  I had a sinus infection 3 weeks ago and i was ...  \n",
       "4  Clicking sound comes and goes when heart beats...  "
      ],
      "text/html": "<div>\n<style scoped>\n    .dataframe tbody tr th:only-of-type {\n        vertical-align: middle;\n    }\n\n    .dataframe tbody tr th {\n        vertical-align: top;\n    }\n\n    .dataframe thead th {\n        text-align: right;\n    }\n</style>\n<table border=\"1\" class=\"dataframe\">\n  <thead>\n    <tr style=\"text-align: right;\">\n      <th></th>\n      <th>dr_id</th>\n      <th>label</th>\n      <th>question_1</th>\n      <th>question_2</th>\n      <th>both_q</th>\n    </tr>\n  </thead>\n  <tbody>\n    <tr>\n      <th>0</th>\n      <td>3</td>\n      <td>1</td>\n      <td>Is it contraindicated to insert a urinary cath...</td>\n      <td>I am looking for some information- Is it safe ...</td>\n      <td>Is it contraindicated to insert a urinary cath...</td>\n    </tr>\n    <tr>\n      <th>1</th>\n      <td>8</td>\n      <td>1</td>\n      <td>How do I tell the difference between an allerg...</td>\n      <td>What are the symptoms that differentiate betwe...</td>\n      <td>How do I tell the difference between an allerg...</td>\n    </tr>\n    <tr>\n      <th>2</th>\n      <td>1</td>\n      <td>1</td>\n      <td>Can coarctation of the aorta cause poor growth...</td>\n      <td>I am 4' 8\". My mom said that I have a birth de...</td>\n      <td>Can coarctation of the aorta cause poor growth...</td>\n    </tr>\n    <tr>\n      <th>3</th>\n      <td>9</td>\n      <td>0</td>\n      <td>I had a sinus infection 3 weeks ago and i was ...</td>\n      <td>My sinuses have been blocked due to allergies ...</td>\n      <td>I had a sinus infection 3 weeks ago and i was ...</td>\n    </tr>\n    <tr>\n      <th>4</th>\n      <td>9</td>\n      <td>0</td>\n      <td>Clicking sound comes and goes when heart beats...</td>\n      <td>I have been having panic attacks for a few mon...</td>\n      <td>Clicking sound comes and goes when heart beats...</td>\n    </tr>\n  </tbody>\n</table>\n</div>"
     },
     "metadata": {},
     "execution_count": 10
    }
   ],
   "source": [
    "train.head()"
   ]
  },
  {
   "cell_type": "code",
   "execution_count": 11,
   "metadata": {},
   "outputs": [],
   "source": [
    "vectorizer = TfidfVectorizer()\n",
    "vectorizer.fit(train[\"both_q\"])\n",
    "\n",
    "train[\"q1_tfidf\"] = vectorizer.transform(train[\"question_1\"]).todense().tolist()\n",
    "train[\"q2_tfidf\"] = vectorizer.transform(train[\"question_2\"]).todense().tolist()\n",
    "\n",
    "train['q1_tfidf'] = train['q1_tfidf'].apply(lambda x: np.array(x))\n",
    "train['q2_tfidf'] = train['q2_tfidf'].apply(lambda x: np.array(x))"
   ]
  },
  {
   "cell_type": "code",
   "execution_count": 12,
   "metadata": {},
   "outputs": [],
   "source": [
    "train['cosineSim'] = train.apply(lambda x: cosine_similarity(x[\"q1_tfidf\"].reshape(1, -1), x[\"q2_tfidf\"].reshape(1, -1))[0][0], axis=1)"
   ]
  },
  {
   "cell_type": "code",
   "execution_count": 13,
   "metadata": {},
   "outputs": [
    {
     "output_type": "execute_result",
     "data": {
      "text/plain": [
       "   dr_id  label                                         question_1  \\\n",
       "0      3      1  Is it contraindicated to insert a urinary cath...   \n",
       "1      8      1  How do I tell the difference between an allerg...   \n",
       "2      1      1  Can coarctation of the aorta cause poor growth...   \n",
       "3      9      0  I had a sinus infection 3 weeks ago and i was ...   \n",
       "4      9      0  Clicking sound comes and goes when heart beats...   \n",
       "\n",
       "                                          question_2  \\\n",
       "0  I am looking for some information- Is it safe ...   \n",
       "1  What are the symptoms that differentiate betwe...   \n",
       "2  I am 4' 8\". My mom said that I have a birth de...   \n",
       "3  My sinuses have been blocked due to allergies ...   \n",
       "4  I have been having panic attacks for a few mon...   \n",
       "\n",
       "                                              both_q  \\\n",
       "0  Is it contraindicated to insert a urinary cath...   \n",
       "1  How do I tell the difference between an allerg...   \n",
       "2  Can coarctation of the aorta cause poor growth...   \n",
       "3  I had a sinus infection 3 weeks ago and i was ...   \n",
       "4  Clicking sound comes and goes when heart beats...   \n",
       "\n",
       "                                            q1_tfidf  \\\n",
       "0  [0.0, 0.0, 0.0, 0.0, 0.0, 0.0, 0.0, 0.0, 0.0, ...   \n",
       "1  [0.0, 0.0, 0.0, 0.0, 0.0, 0.0, 0.0, 0.0, 0.0, ...   \n",
       "2  [0.0, 0.0, 0.0, 0.0, 0.0, 0.0, 0.0, 0.0, 0.0, ...   \n",
       "3  [0.0, 0.0, 0.0, 0.0, 0.0, 0.0, 0.0, 0.0, 0.0, ...   \n",
       "4  [0.0, 0.0, 0.0, 0.0, 0.0, 0.0, 0.0, 0.0, 0.0, ...   \n",
       "\n",
       "                                            q2_tfidf  cosineSim  \n",
       "0  [0.0, 0.0, 0.0, 0.0, 0.0, 0.0, 0.0, 0.0, 0.0, ...   0.611276  \n",
       "1  [0.0, 0.0, 0.0, 0.0, 0.0, 0.0, 0.0, 0.0, 0.0, ...   0.607764  \n",
       "2  [0.0, 0.0, 0.0, 0.0, 0.0, 0.0, 0.0, 0.0, 0.0, ...   0.425709  \n",
       "3  [0.0, 0.0, 0.0, 0.0, 0.0, 0.0, 0.0, 0.0, 0.0, ...   0.025657  \n",
       "4  [0.0, 0.0, 0.0, 0.0, 0.0, 0.0, 0.0, 0.0, 0.0, ...   0.115926  "
      ],
      "text/html": "<div>\n<style scoped>\n    .dataframe tbody tr th:only-of-type {\n        vertical-align: middle;\n    }\n\n    .dataframe tbody tr th {\n        vertical-align: top;\n    }\n\n    .dataframe thead th {\n        text-align: right;\n    }\n</style>\n<table border=\"1\" class=\"dataframe\">\n  <thead>\n    <tr style=\"text-align: right;\">\n      <th></th>\n      <th>dr_id</th>\n      <th>label</th>\n      <th>question_1</th>\n      <th>question_2</th>\n      <th>both_q</th>\n      <th>q1_tfidf</th>\n      <th>q2_tfidf</th>\n      <th>cosineSim</th>\n    </tr>\n  </thead>\n  <tbody>\n    <tr>\n      <th>0</th>\n      <td>3</td>\n      <td>1</td>\n      <td>Is it contraindicated to insert a urinary cath...</td>\n      <td>I am looking for some information- Is it safe ...</td>\n      <td>Is it contraindicated to insert a urinary cath...</td>\n      <td>[0.0, 0.0, 0.0, 0.0, 0.0, 0.0, 0.0, 0.0, 0.0, ...</td>\n      <td>[0.0, 0.0, 0.0, 0.0, 0.0, 0.0, 0.0, 0.0, 0.0, ...</td>\n      <td>0.611276</td>\n    </tr>\n    <tr>\n      <th>1</th>\n      <td>8</td>\n      <td>1</td>\n      <td>How do I tell the difference between an allerg...</td>\n      <td>What are the symptoms that differentiate betwe...</td>\n      <td>How do I tell the difference between an allerg...</td>\n      <td>[0.0, 0.0, 0.0, 0.0, 0.0, 0.0, 0.0, 0.0, 0.0, ...</td>\n      <td>[0.0, 0.0, 0.0, 0.0, 0.0, 0.0, 0.0, 0.0, 0.0, ...</td>\n      <td>0.607764</td>\n    </tr>\n    <tr>\n      <th>2</th>\n      <td>1</td>\n      <td>1</td>\n      <td>Can coarctation of the aorta cause poor growth...</td>\n      <td>I am 4' 8\". My mom said that I have a birth de...</td>\n      <td>Can coarctation of the aorta cause poor growth...</td>\n      <td>[0.0, 0.0, 0.0, 0.0, 0.0, 0.0, 0.0, 0.0, 0.0, ...</td>\n      <td>[0.0, 0.0, 0.0, 0.0, 0.0, 0.0, 0.0, 0.0, 0.0, ...</td>\n      <td>0.425709</td>\n    </tr>\n    <tr>\n      <th>3</th>\n      <td>9</td>\n      <td>0</td>\n      <td>I had a sinus infection 3 weeks ago and i was ...</td>\n      <td>My sinuses have been blocked due to allergies ...</td>\n      <td>I had a sinus infection 3 weeks ago and i was ...</td>\n      <td>[0.0, 0.0, 0.0, 0.0, 0.0, 0.0, 0.0, 0.0, 0.0, ...</td>\n      <td>[0.0, 0.0, 0.0, 0.0, 0.0, 0.0, 0.0, 0.0, 0.0, ...</td>\n      <td>0.025657</td>\n    </tr>\n    <tr>\n      <th>4</th>\n      <td>9</td>\n      <td>0</td>\n      <td>Clicking sound comes and goes when heart beats...</td>\n      <td>I have been having panic attacks for a few mon...</td>\n      <td>Clicking sound comes and goes when heart beats...</td>\n      <td>[0.0, 0.0, 0.0, 0.0, 0.0, 0.0, 0.0, 0.0, 0.0, ...</td>\n      <td>[0.0, 0.0, 0.0, 0.0, 0.0, 0.0, 0.0, 0.0, 0.0, ...</td>\n      <td>0.115926</td>\n    </tr>\n  </tbody>\n</table>\n</div>"
     },
     "metadata": {},
     "execution_count": 13
    }
   ],
   "source": [
    "train.head()"
   ]
  },
  {
   "cell_type": "code",
   "execution_count": 14,
   "metadata": {},
   "outputs": [],
   "source": [
    "train[\"pred\"] = (train[\"cosineSim\"] >= 0.5).astype(\"int\")"
   ]
  },
  {
   "cell_type": "code",
   "execution_count": 15,
   "metadata": {},
   "outputs": [
    {
     "output_type": "execute_result",
     "data": {
      "text/plain": [
       "   dr_id  label                                         question_1  \\\n",
       "0      3      1  Is it contraindicated to insert a urinary cath...   \n",
       "1      8      1  How do I tell the difference between an allerg...   \n",
       "2      1      1  Can coarctation of the aorta cause poor growth...   \n",
       "3      9      0  I had a sinus infection 3 weeks ago and i was ...   \n",
       "4      9      0  Clicking sound comes and goes when heart beats...   \n",
       "\n",
       "                                          question_2  \\\n",
       "0  I am looking for some information- Is it safe ...   \n",
       "1  What are the symptoms that differentiate betwe...   \n",
       "2  I am 4' 8\". My mom said that I have a birth de...   \n",
       "3  My sinuses have been blocked due to allergies ...   \n",
       "4  I have been having panic attacks for a few mon...   \n",
       "\n",
       "                                              both_q  \\\n",
       "0  Is it contraindicated to insert a urinary cath...   \n",
       "1  How do I tell the difference between an allerg...   \n",
       "2  Can coarctation of the aorta cause poor growth...   \n",
       "3  I had a sinus infection 3 weeks ago and i was ...   \n",
       "4  Clicking sound comes and goes when heart beats...   \n",
       "\n",
       "                                            q1_tfidf  \\\n",
       "0  [0.0, 0.0, 0.0, 0.0, 0.0, 0.0, 0.0, 0.0, 0.0, ...   \n",
       "1  [0.0, 0.0, 0.0, 0.0, 0.0, 0.0, 0.0, 0.0, 0.0, ...   \n",
       "2  [0.0, 0.0, 0.0, 0.0, 0.0, 0.0, 0.0, 0.0, 0.0, ...   \n",
       "3  [0.0, 0.0, 0.0, 0.0, 0.0, 0.0, 0.0, 0.0, 0.0, ...   \n",
       "4  [0.0, 0.0, 0.0, 0.0, 0.0, 0.0, 0.0, 0.0, 0.0, ...   \n",
       "\n",
       "                                            q2_tfidf  cosineSim  pred  \n",
       "0  [0.0, 0.0, 0.0, 0.0, 0.0, 0.0, 0.0, 0.0, 0.0, ...   0.611276     1  \n",
       "1  [0.0, 0.0, 0.0, 0.0, 0.0, 0.0, 0.0, 0.0, 0.0, ...   0.607764     1  \n",
       "2  [0.0, 0.0, 0.0, 0.0, 0.0, 0.0, 0.0, 0.0, 0.0, ...   0.425709     0  \n",
       "3  [0.0, 0.0, 0.0, 0.0, 0.0, 0.0, 0.0, 0.0, 0.0, ...   0.025657     0  \n",
       "4  [0.0, 0.0, 0.0, 0.0, 0.0, 0.0, 0.0, 0.0, 0.0, ...   0.115926     0  "
      ],
      "text/html": "<div>\n<style scoped>\n    .dataframe tbody tr th:only-of-type {\n        vertical-align: middle;\n    }\n\n    .dataframe tbody tr th {\n        vertical-align: top;\n    }\n\n    .dataframe thead th {\n        text-align: right;\n    }\n</style>\n<table border=\"1\" class=\"dataframe\">\n  <thead>\n    <tr style=\"text-align: right;\">\n      <th></th>\n      <th>dr_id</th>\n      <th>label</th>\n      <th>question_1</th>\n      <th>question_2</th>\n      <th>both_q</th>\n      <th>q1_tfidf</th>\n      <th>q2_tfidf</th>\n      <th>cosineSim</th>\n      <th>pred</th>\n    </tr>\n  </thead>\n  <tbody>\n    <tr>\n      <th>0</th>\n      <td>3</td>\n      <td>1</td>\n      <td>Is it contraindicated to insert a urinary cath...</td>\n      <td>I am looking for some information- Is it safe ...</td>\n      <td>Is it contraindicated to insert a urinary cath...</td>\n      <td>[0.0, 0.0, 0.0, 0.0, 0.0, 0.0, 0.0, 0.0, 0.0, ...</td>\n      <td>[0.0, 0.0, 0.0, 0.0, 0.0, 0.0, 0.0, 0.0, 0.0, ...</td>\n      <td>0.611276</td>\n      <td>1</td>\n    </tr>\n    <tr>\n      <th>1</th>\n      <td>8</td>\n      <td>1</td>\n      <td>How do I tell the difference between an allerg...</td>\n      <td>What are the symptoms that differentiate betwe...</td>\n      <td>How do I tell the difference between an allerg...</td>\n      <td>[0.0, 0.0, 0.0, 0.0, 0.0, 0.0, 0.0, 0.0, 0.0, ...</td>\n      <td>[0.0, 0.0, 0.0, 0.0, 0.0, 0.0, 0.0, 0.0, 0.0, ...</td>\n      <td>0.607764</td>\n      <td>1</td>\n    </tr>\n    <tr>\n      <th>2</th>\n      <td>1</td>\n      <td>1</td>\n      <td>Can coarctation of the aorta cause poor growth...</td>\n      <td>I am 4' 8\". My mom said that I have a birth de...</td>\n      <td>Can coarctation of the aorta cause poor growth...</td>\n      <td>[0.0, 0.0, 0.0, 0.0, 0.0, 0.0, 0.0, 0.0, 0.0, ...</td>\n      <td>[0.0, 0.0, 0.0, 0.0, 0.0, 0.0, 0.0, 0.0, 0.0, ...</td>\n      <td>0.425709</td>\n      <td>0</td>\n    </tr>\n    <tr>\n      <th>3</th>\n      <td>9</td>\n      <td>0</td>\n      <td>I had a sinus infection 3 weeks ago and i was ...</td>\n      <td>My sinuses have been blocked due to allergies ...</td>\n      <td>I had a sinus infection 3 weeks ago and i was ...</td>\n      <td>[0.0, 0.0, 0.0, 0.0, 0.0, 0.0, 0.0, 0.0, 0.0, ...</td>\n      <td>[0.0, 0.0, 0.0, 0.0, 0.0, 0.0, 0.0, 0.0, 0.0, ...</td>\n      <td>0.025657</td>\n      <td>0</td>\n    </tr>\n    <tr>\n      <th>4</th>\n      <td>9</td>\n      <td>0</td>\n      <td>Clicking sound comes and goes when heart beats...</td>\n      <td>I have been having panic attacks for a few mon...</td>\n      <td>Clicking sound comes and goes when heart beats...</td>\n      <td>[0.0, 0.0, 0.0, 0.0, 0.0, 0.0, 0.0, 0.0, 0.0, ...</td>\n      <td>[0.0, 0.0, 0.0, 0.0, 0.0, 0.0, 0.0, 0.0, 0.0, ...</td>\n      <td>0.115926</td>\n      <td>0</td>\n    </tr>\n  </tbody>\n</table>\n</div>"
     },
     "metadata": {},
     "execution_count": 15
    }
   ],
   "source": [
    "train.head()"
   ]
  },
  {
   "cell_type": "code",
   "execution_count": 18,
   "metadata": {},
   "outputs": [],
   "source": [
    "def predict(df):\n",
    "    df[\"q1_tfidf\"] = vectorizer.transform(df[\"question_1\"]).todense().tolist()\n",
    "    df[\"q2_tfidf\"] = vectorizer.transform(df[\"question_2\"]).todense().tolist()\n",
    "\n",
    "    df['q1_tfidf'] = df['q1_tfidf'].apply(lambda x: np.array(x))\n",
    "    df['q2_tfidf'] = df['q2_tfidf'].apply(lambda x: np.array(x))\n",
    "    df['cosineSim'] = df.apply(lambda x: cosine_similarity(x[\"q1_tfidf\"].reshape(1, -1), x[\"q2_tfidf\"].reshape(1, -1))[0][0], axis=1)\n",
    "    df[\"pred\"] = (df[\"cosineSim\"] >= 0.5).astype(\"int\")"
   ]
  },
  {
   "cell_type": "code",
   "execution_count": 19,
   "metadata": {},
   "outputs": [],
   "source": [
    "predict(test)"
   ]
  },
  {
   "cell_type": "code",
   "execution_count": 25,
   "metadata": {},
   "outputs": [
    {
     "output_type": "stream",
     "name": "stdout",
     "text": [
      "              precision    recall  f1-score   support\n\n           0       0.63      0.88      0.73       312\n           1       0.78      0.45      0.57       298\n\n    accuracy                           0.67       610\n   macro avg       0.70      0.66      0.65       610\nweighted avg       0.70      0.67      0.65       610\n\n"
     ]
    }
   ],
   "source": [
    "from sklearn.metrics import classification_report\n",
    "print(classification_report(test[\"label\"], test[\"pred\"]))"
   ]
  },
  {
   "cell_type": "code",
   "execution_count": 53,
   "metadata": {},
   "outputs": [],
   "source": [
    "train[\"combined_vecs\"] = train.apply(lambda x: np.concatenate((x[\"q1_tfidf\"], x[\"q2_tfidf\"])), axis=1)\n",
    "test[\"combined_vecs\"] = train.apply(lambda x: np.concatenate((x[\"q1_tfidf\"], x[\"q2_tfidf\"])), axis=1)"
   ]
  },
  {
   "cell_type": "code",
   "execution_count": 59,
   "metadata": {},
   "outputs": [],
   "source": [
    "from sklearn.naive_bayes import MultinomialNB\n",
    "\n",
    "clf = MultinomialNB()\n",
    "clf.fit(np.stack(train[\"combined_vecs\"].values), train[\"label\"])\n",
    "preds = clf.predict(np.stack(test[\"combined_vecs\"].values))"
   ]
  },
  {
   "cell_type": "code",
   "execution_count": 62,
   "metadata": {},
   "outputs": [
    {
     "output_type": "stream",
     "name": "stdout",
     "text": [
      "              precision    recall  f1-score   support\n\n           0       0.53      0.50      0.51       312\n           1       0.51      0.54      0.52       298\n\n    accuracy                           0.52       610\n   macro avg       0.52      0.52      0.52       610\nweighted avg       0.52      0.52      0.52       610\n\n"
     ]
    }
   ],
   "source": [
    "print(classification_report(test[\"label\"], preds))"
   ]
  },
  {
   "cell_type": "code",
   "execution_count": 63,
   "metadata": {},
   "outputs": [],
   "source": [
    "from sklearn.neighbors import KNeighborsClassifier\n",
    "\n",
    "clf = KNeighborsClassifier()\n",
    "clf.fit(np.stack(train[\"combined_vecs\"].values), train[\"label\"])\n",
    "preds = clf.predict(np.stack(test[\"combined_vecs\"].values))"
   ]
  },
  {
   "cell_type": "code",
   "execution_count": 64,
   "metadata": {},
   "outputs": [
    {
     "output_type": "stream",
     "name": "stdout",
     "text": [
      "              precision    recall  f1-score   support\n\n           0       0.52      0.47      0.49       312\n           1       0.49      0.53      0.51       298\n\n    accuracy                           0.50       610\n   macro avg       0.50      0.50      0.50       610\nweighted avg       0.50      0.50      0.50       610\n\n"
     ]
    }
   ],
   "source": [
    "print(classification_report(test[\"label\"], preds))"
   ]
  },
  {
   "cell_type": "code",
   "execution_count": null,
   "metadata": {},
   "outputs": [],
   "source": []
  }
 ]
}